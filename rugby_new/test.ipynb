{
 "cells": [
  {
   "cell_type": "code",
   "execution_count": 1,
   "id": "initial_id",
   "metadata": {
    "collapsed": true,
    "ExecuteTime": {
     "end_time": "2024-02-15T13:33:03.803669800Z",
     "start_time": "2024-02-15T13:33:03.750889200Z"
    }
   },
   "outputs": [
    {
     "name": "stderr",
     "output_type": "stream",
     "text": [
      "<>:11: SyntaxWarning: invalid escape sequence '\\d'\n",
      "<>:11: SyntaxWarning: invalid escape sequence '\\d'\n",
      "C:\\Users\\HB\\AppData\\Local\\Temp\\ipykernel_10640\\726246472.py:11: SyntaxWarning: invalid escape sequence '\\d'\n",
      "  re.findall('[hf]_(\\d{1,2}_\\d{1,2})', 'h_1_5')\n"
     ]
    },
    {
     "data": {
      "text/plain": "['1_5']"
     },
     "execution_count": 1,
     "metadata": {},
     "output_type": "execute_result"
    }
   ],
   "source": [
    "import re\n",
    "\n",
    "data = ['h_1_4','h_1_5','h_1_6','f_1_1','f_1_2','f_1_3']\n",
    "\n",
    "\n",
    "\n",
    "[value for value in data]\n",
    "re.findall('([hf])', 'h_1_5')\n",
    "\n",
    "\n",
    "re.findall('[hf]_(\\d{1,2}_\\d{1,2})', 'h_1_5')\n",
    "\n"
   ]
  },
  {
   "cell_type": "code",
   "outputs": [],
   "source": [],
   "metadata": {
    "collapsed": false
   },
   "id": "9959db293fdee4fa"
  }
 ],
 "metadata": {
  "kernelspec": {
   "display_name": "Python 3",
   "language": "python",
   "name": "python3"
  },
  "language_info": {
   "codemirror_mode": {
    "name": "ipython",
    "version": 2
   },
   "file_extension": ".py",
   "mimetype": "text/x-python",
   "name": "python",
   "nbconvert_exporter": "python",
   "pygments_lexer": "ipython2",
   "version": "2.7.6"
  }
 },
 "nbformat": 4,
 "nbformat_minor": 5
}
